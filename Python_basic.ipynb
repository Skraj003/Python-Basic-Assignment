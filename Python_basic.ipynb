{
  "nbformat": 4,
  "nbformat_minor": 0,
  "metadata": {
    "colab": {
      "provenance": []
    },
    "kernelspec": {
      "name": "python3",
      "display_name": "Python 3"
    },
    "language_info": {
      "name": "python"
    }
  },
  "cells": [
    {
      "cell_type": "markdown",
      "source": [
        "#Theoretical Questions.\n",
        "\n",
        "1.  What is Python, and why is it popular?\n",
        "- Python is a programming language that is popular due to its easy-to-read syntax, large and active community, and a vast collection of libraries and frameworks.\n",
        "\n",
        "2. What is an interpreter in Python?\n",
        "- In python, interpreter is a program that reads and executes your code line by line.\n",
        "\n",
        "3. What are pre-defined keywords in Python?\n",
        "- Pre-define keywords are special keywords that are built into the language & cannot used as a variable names. It is also called as reserved keywords.\n",
        "\n",
        "4. Can keywords be used as variable names?\n",
        "- No, keywors cannot be used as variable names.\n",
        "\n",
        "5. What is mutability in Python?\n",
        "- In python, mutability refers to whether or not an object value can be changed after it has been created.\n",
        "\n",
        "6. Why are lists mutable, but tuples are immutable?\n",
        "- Why lists are mutable:\n",
        "\n",
        "(a) Lists are designed to change.\n",
        "\n",
        "(b) You can add, remove, or update items in a list.\n",
        "\n",
        "(c) That's helpful when your data needs to change while your program runs.\n",
        "\n",
        "- Why tuples are immutable:\n",
        "\n",
        "(a) Tuples are made to stay the same.\n",
        "\n",
        "(b) They are safer and faster because they can't change.\n",
        "\n",
        "(c) Useful when you want to protect data from being modified by mistake.\n",
        "\n",
        "7. What is the difference between “==” and “is” operators in Python?\n",
        "- \"==\" equality operator checks if value are the same, and its doesn't care if the object are stored in the different places.\n",
        "- \"is\" identity operator checks if two variable point to the exact same object in memory, even two values are same its reflect \"False\" due to different object.\n",
        "\n",
        "8. What are logical operators in Python?\n",
        "- Logical operators used to do logical operations on boolean expressions, it is reflects \"True\" or \"False\" based on there Logic. there are three main logical operator \"and\", \"or\", & \"not\".\n",
        "\n",
        "9. What is type casting in Python?\n",
        "- Type casting means changing the data type of a value from one type to another.\n",
        "\n",
        "10. What is the difference between implicit and explicit type casting?\n",
        "- Implicit type casting refers automatically changed data type when its needed without any help.\n",
        "- Explicit type casting refers that python cannot changed data type on its own you have to changed it by input commands.\n",
        "\n",
        "11. What is the purpose of conditional statements in Python?\n",
        "- The purpose of conditional statements in python is to control the flow of a program by making decisions based on certain conditions.\n",
        "\n",
        "12. How does the elif statement work?\n",
        "- The elif (short of else if) statement used when you want to check more than one conditions, and it is used after \"if\" and before \"else\" statement in python.\n",
        "\n",
        "13. What is the difference between for and while loops?\n",
        "- \"for\" loop: Used when you know how many times you want to repeat something.\n",
        "- \"while\" loop:  Used when you dont know how many times the loop should run."
      ],
      "metadata": {
        "id": "WYbeQ2RJx2as"
      }
    },
    {
      "cell_type": "code",
      "execution_count": 1,
      "metadata": {
        "colab": {
          "base_uri": "https://localhost:8080/"
        },
        "id": "VIHeYxlSx0RM",
        "outputId": "f680cc82-2d11-4d45-c0a3-63bbb239d265"
      },
      "outputs": [
        {
          "output_type": "stream",
          "name": "stdout",
          "text": [
            "enter password: hello1234\n",
            "access granted\n"
          ]
        }
      ],
      "source": [
        "#14. Describe a scenario where a while loop is more suitable than a for loop.\n",
        "#i will write a code as example where while loop more suitable than for loop.\n",
        "\n",
        "password = \"hello1234\"\n",
        "enter_password = \"\"\n",
        "while enter_password != password:\n",
        "    enter_password = (input(\"enter password: \"))\n",
        "    print(\"access granted\")\n",
        "    #here while loop more sutable than \"for\" loop bcz we dont know that how many times user put wrong password."
      ]
    },
    {
      "cell_type": "code",
      "source": [
        "#Practical Questions.\n",
        "\n",
        "#1. Write a Python program to print \"Hello, World!\"\n",
        "\n",
        "print(\"Hello, World!\")"
      ],
      "metadata": {
        "colab": {
          "base_uri": "https://localhost:8080/"
        },
        "id": "u-Y7WSWryYeH",
        "outputId": "c9cf5b0e-8772-4e6d-e250-de162fa27370"
      },
      "execution_count": 2,
      "outputs": [
        {
          "output_type": "stream",
          "name": "stdout",
          "text": [
            "Hello, World!\n"
          ]
        }
      ]
    },
    {
      "cell_type": "code",
      "source": [
        "#2. Write a Python program that displays your name and age?\n",
        "\n",
        "print(input(\"Enter Your Name: \"))\n",
        "print(input(\"Enter Your Age: \"))"
      ],
      "metadata": {
        "colab": {
          "base_uri": "https://localhost:8080/"
        },
        "id": "Q0WKlC4Gym_x",
        "outputId": "ffd142a2-9771-423c-b852-13ca52d0a07a"
      },
      "execution_count": 4,
      "outputs": [
        {
          "output_type": "stream",
          "name": "stdout",
          "text": [
            "Enter Your Name: Raj\n",
            "Raj\n",
            "Enter Your Age: 22\n",
            "22\n"
          ]
        }
      ]
    },
    {
      "cell_type": "code",
      "source": [
        "#3. Write code to print all the pre-defined keywords in Python using the keyword library?\n",
        "\n",
        "help(\"keywords\")"
      ],
      "metadata": {
        "colab": {
          "base_uri": "https://localhost:8080/"
        },
        "id": "cwPpSlQCy6jW",
        "outputId": "e95c8ea5-caca-4ddb-8dd4-0828520634cf"
      },
      "execution_count": 5,
      "outputs": [
        {
          "output_type": "stream",
          "name": "stdout",
          "text": [
            "\n",
            "Here is a list of the Python keywords.  Enter any keyword to get more help.\n",
            "\n",
            "False               class               from                or\n",
            "None                continue            global              pass\n",
            "True                def                 if                  raise\n",
            "and                 del                 import              return\n",
            "as                  elif                in                  try\n",
            "assert              else                is                  while\n",
            "async               except              lambda              with\n",
            "await               finally             nonlocal            yield\n",
            "break               for                 not                 \n",
            "\n"
          ]
        }
      ]
    },
    {
      "cell_type": "code",
      "source": [
        "#4. Write a program that checks if a given word is a Python keyword?\n",
        "\n",
        "import keyword\n",
        "\n",
        "def is_python_keyword(main):\n",
        "    if keyword.iskeyword(main):\n",
        "        return True\n",
        "    else:\n",
        "        return False\n",
        "\n",
        "# Test the function\n",
        "main = input(\"Enter a word: \")\n",
        "if is_python_keyword(main):\n",
        "    print(f\"'{main}' is a Python keyword.\")\n",
        "else:\n",
        "    print(f\"'{main}' is not a Python keyword.\")"
      ],
      "metadata": {
        "colab": {
          "base_uri": "https://localhost:8080/"
        },
        "id": "WqVhdpY4zBNk",
        "outputId": "8e83743b-7c4f-424e-e9a4-3f303db1d087"
      },
      "execution_count": 6,
      "outputs": [
        {
          "output_type": "stream",
          "name": "stdout",
          "text": [
            "Enter a word: if\n",
            "'if' is a Python keyword.\n"
          ]
        }
      ]
    },
    {
      "cell_type": "code",
      "source": [
        "'''5. Create a list and tuple in Python, and demonstrate how attempting to change an element works differently\n",
        "for each?'''\n",
        "\n",
        "\n",
        "list = [1, 2, 3, 4, 5,]\n",
        "tuple = (1, 2, 3, 4, 5,)\n",
        "\n",
        "#trying to change list >> and it is workd bcz list are design for changeable.\n",
        "\n",
        "list[2] = 7\n",
        "print(list)\n",
        "\n",
        "#trying to change tuple .. and it cant be changed because it was design for stay same.\n",
        "#if we want to then it will throw an error.\n",
        "\n",
        "tuple(2) = (6)"
      ],
      "metadata": {
        "colab": {
          "base_uri": "https://localhost:8080/",
          "height": 106
        },
        "id": "UZxTeKVOzS_E",
        "outputId": "d5b985d7-eae6-4d22-c96e-9bf1bdb2d588"
      },
      "execution_count": 7,
      "outputs": [
        {
          "output_type": "error",
          "ename": "SyntaxError",
          "evalue": "cannot assign to function call here. Maybe you meant '==' instead of '='? (<ipython-input-7-820783d614b9>, line 16)",
          "traceback": [
            "\u001b[0;36m  File \u001b[0;32m\"<ipython-input-7-820783d614b9>\"\u001b[0;36m, line \u001b[0;32m16\u001b[0m\n\u001b[0;31m    tuple(2) = (6)\u001b[0m\n\u001b[0m    ^\u001b[0m\n\u001b[0;31mSyntaxError\u001b[0m\u001b[0;31m:\u001b[0m cannot assign to function call here. Maybe you meant '==' instead of '='?\n"
          ]
        }
      ]
    },
    {
      "cell_type": "code",
      "source": [
        "#6. Write a function to demonstrate the behavior of mutable and immutable arguments.\n",
        "#mutables >> it refers change in data for ex: list, you can do add  or change in list\n",
        "\n",
        "list = [1, 2, 3, 4,]\n",
        "list.append(5)      #here i add a new data into the list.\n",
        "print(list)\n",
        "\n",
        "#immutable >> it refers you cannot change the data after its creation for ex: tuple, strings\n",
        "\n",
        "name = (\"ajay\")\n",
        "name(0) = \"b\"   #if assign a new word in string then it will throw an error"
      ],
      "metadata": {
        "colab": {
          "base_uri": "https://localhost:8080/",
          "height": 106
        },
        "id": "Fk7t7fXczho7",
        "outputId": "97f637a5-bd63-45e4-d9f9-264d27afd82d"
      },
      "execution_count": 8,
      "outputs": [
        {
          "output_type": "error",
          "ename": "SyntaxError",
          "evalue": "cannot assign to function call here. Maybe you meant '==' instead of '='? (<ipython-input-8-f202703eb384>, line 11)",
          "traceback": [
            "\u001b[0;36m  File \u001b[0;32m\"<ipython-input-8-f202703eb384>\"\u001b[0;36m, line \u001b[0;32m11\u001b[0m\n\u001b[0;31m    name(0) = \"b\"   #if assign a new word in string then it will throw an error\u001b[0m\n\u001b[0m    ^\u001b[0m\n\u001b[0;31mSyntaxError\u001b[0m\u001b[0;31m:\u001b[0m cannot assign to function call here. Maybe you meant '==' instead of '='?\n"
          ]
        }
      ]
    },
    {
      "cell_type": "code",
      "source": [
        "#7. Write a program that performs basic arithmetic operations on two user-input numbers.\n",
        "\n",
        "a = float(input(\"enter first number: \"))\n",
        "b = float(input(\"enter second number: \"))\n",
        "\n",
        "print(f\"sum: {a+b}, minus: {a-b}, multification: {a*b}, devidation: {a/b}\")"
      ],
      "metadata": {
        "colab": {
          "base_uri": "https://localhost:8080/"
        },
        "id": "5SlKZAUAz-9m",
        "outputId": "1e61d1d0-30b2-4a65-d2e5-ea53a49cfc02"
      },
      "execution_count": 9,
      "outputs": [
        {
          "output_type": "stream",
          "name": "stdout",
          "text": [
            "enter first number: 8\n",
            "enter second number: 7\n",
            "sum: 15.0, minus: 1.0, multification: 56.0, devidation: 1.1428571428571428\n"
          ]
        }
      ]
    },
    {
      "cell_type": "code",
      "source": [
        "#8. Write a program to demonstrate the use of logical operators.\n",
        "\n",
        "x = True\n",
        "y = False\n",
        "\n",
        "print(x or y)\n",
        "print(x and y)\n",
        "print(not y)"
      ],
      "metadata": {
        "colab": {
          "base_uri": "https://localhost:8080/"
        },
        "id": "maMlkPJZ0GKB",
        "outputId": "e46f0ef8-3dc2-4704-d20e-dbbf116429e0"
      },
      "execution_count": 10,
      "outputs": [
        {
          "output_type": "stream",
          "name": "stdout",
          "text": [
            "True\n",
            "False\n",
            "True\n"
          ]
        }
      ]
    },
    {
      "cell_type": "code",
      "source": [
        "#10. Write code to demonstrate type casting with list elements.\n",
        "\n",
        "# Original list with string elements\n",
        "str_list = ['1', '2', '3', '4', '5']\n",
        "print(\"Original list (strings):\", str_list)\n",
        "\n",
        "# Convert string elements to integers\n",
        "int_list = [int(x) for x in str_list]\n",
        "print(\"After type casting to integers:\", int_list)\n",
        "\n",
        "# Perform some operation (e.g., add 10 to each number)\n",
        "modified_list = [x + 10 for x in int_list]\n",
        "print(\"After adding 10:\", modified_list)\n",
        "\n",
        "# Convert integers back to strings\n",
        "final_str_list = [str(x) for x in modified_list]\n",
        "print(\"Final list (strings again):\", final_str_list)"
      ],
      "metadata": {
        "colab": {
          "base_uri": "https://localhost:8080/"
        },
        "id": "TUhBbp6L0OrI",
        "outputId": "660c41f4-f8a4-490c-d17b-d4ef73e130c9"
      },
      "execution_count": 11,
      "outputs": [
        {
          "output_type": "stream",
          "name": "stdout",
          "text": [
            "Original list (strings): ['1', '2', '3', '4', '5']\n",
            "After type casting to integers: [1, 2, 3, 4, 5]\n",
            "After adding 10: [11, 12, 13, 14, 15]\n",
            "Final list (strings again): ['11', '12', '13', '14', '15']\n"
          ]
        }
      ]
    },
    {
      "cell_type": "code",
      "source": [
        "#11. Write a program that checks if a number is positive, negative, or zero.\n",
        "\n",
        "user_entry = (float(input(\"enter a number: \")))\n",
        "\n",
        "if (user_entry > 0):\n",
        "    print(\"this numner is positive\")\n",
        "elif (user_entry < 0):\n",
        "    print(\"this number is negetive\")\n",
        "else:\n",
        "    print(\"the number is zero\")"
      ],
      "metadata": {
        "colab": {
          "base_uri": "https://localhost:8080/"
        },
        "id": "Z3L4CaBH0U14",
        "outputId": "122189e2-8d0a-4d9f-c3da-f230a7b083d9"
      },
      "execution_count": 12,
      "outputs": [
        {
          "output_type": "stream",
          "name": "stdout",
          "text": [
            "enter a number: 0\n",
            "the number is zero\n"
          ]
        }
      ]
    },
    {
      "cell_type": "code",
      "source": [
        "#12. Write a for loop to print numbers from 1 to 10.\n",
        "\n",
        "for i in range(1, 11):\n",
        "    print(i, end=\" \")"
      ],
      "metadata": {
        "colab": {
          "base_uri": "https://localhost:8080/"
        },
        "id": "gb66c0Ga0ZvK",
        "outputId": "4ae476df-3122-4539-820c-4530109d46a1"
      },
      "execution_count": 13,
      "outputs": [
        {
          "output_type": "stream",
          "name": "stdout",
          "text": [
            "1 2 3 4 5 6 7 8 9 10 "
          ]
        }
      ]
    },
    {
      "cell_type": "code",
      "source": [
        "#13. Write a Python program to find the sum of all even numbers between 1 and 50.\n",
        "total = 0\n",
        "for num in range(2, 51, 2):     #start, stop, step\n",
        "    total += num\n",
        "\n",
        "    print(total)"
      ],
      "metadata": {
        "colab": {
          "base_uri": "https://localhost:8080/"
        },
        "id": "m1wFJ0fU0ha5",
        "outputId": "85f724a2-23e4-46f3-d268-598e6c21bd04"
      },
      "execution_count": 14,
      "outputs": [
        {
          "output_type": "stream",
          "name": "stdout",
          "text": [
            "2\n",
            "6\n",
            "12\n",
            "20\n",
            "30\n",
            "42\n",
            "56\n",
            "72\n",
            "90\n",
            "110\n",
            "132\n",
            "156\n",
            "182\n",
            "210\n",
            "240\n",
            "272\n",
            "306\n",
            "342\n",
            "380\n",
            "420\n",
            "462\n",
            "506\n",
            "552\n",
            "600\n",
            "650\n"
          ]
        }
      ]
    },
    {
      "cell_type": "code",
      "source": [
        "#14. Write a program to reverse a string using a while loop.\n",
        "s = \"hello\"\n",
        "reverse_word = \"\"\n",
        "\n",
        "i = len(s) - 1\n",
        "while i >= 0:\n",
        "    reverse_word += s[i]\n",
        "    i -= 1\n",
        "    print(reverse_word)"
      ],
      "metadata": {
        "colab": {
          "base_uri": "https://localhost:8080/"
        },
        "id": "U32e3o6v0sqc",
        "outputId": "bf8dc9eb-48ff-4602-bb12-0bb9e0411293"
      },
      "execution_count": 15,
      "outputs": [
        {
          "output_type": "stream",
          "name": "stdout",
          "text": [
            "o\n",
            "ol\n",
            "oll\n",
            "olle\n",
            "olleh\n"
          ]
        }
      ]
    },
    {
      "cell_type": "code",
      "source": [
        "#15. Write a Python program to calculate the factorial of a number provided by the user using a while loop.\n",
        "n = int(input(\"Enter a number: \"))\n",
        "factorial = 1\n",
        "while n > 0:\n",
        "    factorial *= n\n",
        "    n -= 1\n",
        "print(factorial)\n"
      ],
      "metadata": {
        "colab": {
          "base_uri": "https://localhost:8080/"
        },
        "id": "Li7QBS340yFU",
        "outputId": "bfcd705d-e9da-43e5-986d-e4107f80c233"
      },
      "execution_count": 16,
      "outputs": [
        {
          "output_type": "stream",
          "name": "stdout",
          "text": [
            "Enter a number: 5\n",
            "120\n"
          ]
        }
      ]
    }
  ]
}