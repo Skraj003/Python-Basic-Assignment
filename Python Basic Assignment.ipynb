{
 "cells": [
  {
   "cell_type": "raw",
   "id": "ae68347b-7b45-4a78-822b-1b08757b2d7c",
   "metadata": {
    "vscode": {
     "languageId": "raw"
    }
   },
   "source": [
    "1.  What is Python, and why is it popular?\n",
    "- Python is a programming language that is popular due to its easy-to-read syntax, large and active community, and a vast collection of libraries and frameworks.\n",
    "\n",
    "2. What is an interpreter in Python?\n",
    "- In python, interpreter is a program that reads and executes your code line by line.\n",
    "\n",
    "3. What are pre-defined keywords in Python?\n",
    "- Pre-define keywords are special keywords that are built into the language & cannot used as a variable names. It is also called as reserved keywords.\n",
    "\n",
    "4. Can keywords be used as variable names?\n",
    "- No, keywors cannot be used as variable names.\n",
    "\n",
    "5. What is mutability in Python?\n",
    "- In python, mutability refers to whether or not an object value can be changed after it has been created.\n",
    "\n",
    "6. Why are lists mutable, but tuples are immutable?\n",
    "- Why lists are mutable:\n",
    "\n",
    "(a) Lists are designed to change.\n",
    "\n",
    "(b) You can add, remove, or update items in a list.\n",
    "\n",
    "(c) That's helpful when your data needs to change while your program runs.\n",
    "\n",
    "- Why tuples are immutable:\n",
    "\n",
    "(a) Tuples are made to stay the same.\n",
    "\n",
    "(b) They are safer and faster because they can't change.\n",
    "\n",
    "(c) Useful when you want to protect data from being modified by mistake.\n",
    "\n",
    "7. What is the difference between “==” and “is” operators in Python?\n",
    "- \"==\" equality operator checks if value are the same, and its doesn't care if the object are stored in the different places.\n",
    "- \"is\" identity operator checks if two variable point to the exact same object in memory, even two values are same its reflect \"False\" due to different object.\n",
    "\n",
    "8. What are logical operators in Python?\n",
    "- Logical operators used to do logical operations on boolean expressions, it is reflects \"True\" or \"False\" based on there Logic. there are three main logical operator \"and\", \"or\", & \"not\".\n",
    "\n",
    "9. What is type casting in Python?\n",
    "- Type casting means changing the data type of a value from one type to another.\n",
    "\n",
    "10. What is the difference between implicit and explicit type casting?\n",
    "- Implicit type casting refers automatically changed data type when its needed without any help.\n",
    "- Explicit type casting refers that python cannot changed data type on its own you have to changed it by input commands.\n",
    "\n",
    "11. What is the purpose of conditional statements in Python?\n",
    "- The purpose of conditional statements in python is to control the flow of a program by making decisions based on certain conditions.\n",
    "\n",
    "12. How does the elif statement work?\n",
    "- The elif (short of else if) statement used when you want to check more than one conditions, and it is used after \"if\" and before \"else\" statement in python.\n",
    "\n",
    "13. What is the difference between for and while loops?\n",
    "- \"for\" loop: Used when you know how many times you want to repeat something.\n",
    "- \"while\" loop:  Used when you dont know how many times the loop should run."
   ]
  },
  {
   "cell_type": "code",
   "execution_count": 5,
   "id": "206fa32d-e052-4ebd-b788-41a71f5ce140",
   "metadata": {},
   "outputs": [
    {
     "name": "stdout",
     "output_type": "stream",
     "text": [
      "enter password:  hello1234\n"
     ]
    },
    {
     "name": "stdout",
     "output_type": "stream",
     "text": [
      "access granted\n"
     ]
    }
   ],
   "source": [
    "#14. Describe a scenario where a while loop is more suitable than a for loop.\n",
    "#i will write a code as example where while loop more suitable than for loop.\n",
    "\n",
    "password = \"hello1234\"\n",
    "enter_password = \"\"\n",
    "while enter_password != password:\n",
    "    enter_password = (input(\"enter password: \"))\n",
    "    print(\"access granted\")\n",
    "    #here while loop more sutable than \"for\" loop bcz we dont know that how many times user put wrong password."
   ]
  },
  {
   "cell_type": "code",
   "execution_count": null,
   "id": "fa0f11e5-d5bf-4d7e-90e1-6d3e81e5c743",
   "metadata": {},
   "outputs": [],
   "source": [
    "#Practical Questions"
   ]
  },
  {
   "cell_type": "code",
   "execution_count": 6,
   "id": "75bc95a3-6068-4693-af2c-ab91764843b1",
   "metadata": {},
   "outputs": [
    {
     "name": "stdout",
     "output_type": "stream",
     "text": [
      "Hello, World!\n"
     ]
    }
   ],
   "source": [
    "#1. Write a Python program to print \"Hello, World!\"\n",
    "\n",
    "print(\"Hello, World!\")\n"
   ]
  },
  {
   "cell_type": "code",
   "execution_count": 1,
   "id": "23472b7e-d4b4-4d45-ace6-00fda0c6d1c3",
   "metadata": {},
   "outputs": [
    {
     "name": "stdout",
     "output_type": "stream",
     "text": [
      "Sk Raj\n",
      "22\n"
     ]
    }
   ],
   "source": [
    "#2. Write a Python program that displays your name and age?\n",
    "\n",
    "print(input(\"Enter Your Name: \"))\n",
    "print(input(\"Enter Your Age: \"))\n"
   ]
  },
  {
   "cell_type": "code",
   "execution_count": 2,
   "id": "32edf9b1",
   "metadata": {},
   "outputs": [
    {
     "name": "stdout",
     "output_type": "stream",
     "text": [
      "\n",
      "Here is a list of the Python keywords.  Enter any keyword to get more help.\n",
      "\n",
      "False               class               from                or\n",
      "None                continue            global              pass\n",
      "True                def                 if                  raise\n",
      "and                 del                 import              return\n",
      "as                  elif                in                  try\n",
      "assert              else                is                  while\n",
      "async               except              lambda              with\n",
      "await               finally             nonlocal            yield\n",
      "break               for                 not                 \n",
      "\n"
     ]
    }
   ],
   "source": [
    "#3. Write code to print all the pre-defined keywords in Python using the keyword library?\n",
    "\n",
    "help(\"keywords\")\n"
   ]
  },
  {
   "cell_type": "code",
   "execution_count": 21,
   "id": "fa32ddee",
   "metadata": {},
   "outputs": [
    {
     "name": "stdout",
     "output_type": "stream",
     "text": [
      "'hello' is not a Python keyword.\n"
     ]
    }
   ],
   "source": [
    "#4. Write a program that checks if a given word is a Python keyword? \n",
    "\n",
    "import keyword\n",
    "\n",
    "def is_python_keyword(main):\n",
    "    if keyword.iskeyword(main):\n",
    "        return True\n",
    "    else:\n",
    "        return False\n",
    "\n",
    "# Test the function\n",
    "main = input(\"Enter a word: \")\n",
    "if is_python_keyword(main):\n",
    "    print(f\"'{main}' is a Python keyword.\")\n",
    "else:\n",
    "    print(f\"'{main}' is not a Python keyword.\")\n"
   ]
  },
  {
   "cell_type": "code",
   "execution_count": 24,
   "id": "3db26295",
   "metadata": {},
   "outputs": [
    {
     "ename": "SyntaxError",
     "evalue": "cannot assign to function call here. Maybe you meant '==' instead of '='? (2458217466.py, line 16)",
     "output_type": "error",
     "traceback": [
      "  \u001b[36mCell\u001b[39m\u001b[36m \u001b[39m\u001b[32mIn[24]\u001b[39m\u001b[32m, line 16\u001b[39m\n\u001b[31m    \u001b[39m\u001b[31mtuple(2) = (6)\u001b[39m\n    ^\n\u001b[31mSyntaxError\u001b[39m\u001b[31m:\u001b[39m cannot assign to function call here. Maybe you meant '==' instead of '='?\n"
     ]
    }
   ],
   "source": [
    "'''5. Create a list and tuple in Python, and demonstrate how attempting to change an element works differently\n",
    "for each?'''\n",
    "\n",
    "\n",
    "list = [1, 2, 3, 4, 5,]\n",
    "tuple = (1, 2, 3, 4, 5,)\n",
    "\n",
    "#trying to change list >> and it is workd bcz list are design for changeable.\n",
    "\n",
    "list[2] = 7\n",
    "print(list)\n",
    "\n",
    "#trying to change tuple .. and it is not change because it was design for stay same.\n",
    "#if we want to then it will throw an error.\n",
    "\n",
    "tuple(2) = (6)\n"
   ]
  },
  {
   "cell_type": "code",
   "execution_count": null,
   "id": "fb9cac0f",
   "metadata": {},
   "outputs": [
    {
     "ename": "SyntaxError",
     "evalue": "cannot assign to function call here. Maybe you meant '==' instead of '='? (1134262883.py, line 11)",
     "output_type": "error",
     "traceback": [
      "  \u001b[36mCell\u001b[39m\u001b[36m \u001b[39m\u001b[32mIn[26]\u001b[39m\u001b[32m, line 11\u001b[39m\n\u001b[31m    \u001b[39m\u001b[31mname(0) = \"b\"   #if assign a new word in string then it will throw an error\u001b[39m\n    ^\n\u001b[31mSyntaxError\u001b[39m\u001b[31m:\u001b[39m cannot assign to function call here. Maybe you meant '==' instead of '='?\n"
     ]
    }
   ],
   "source": [
    "#6. Write a function to demonstrate the behavior of mutable and immutable arguments.\n",
    "#mutables >> it refers change in data for ex: list, you can do add  or change in list\n",
    "\n",
    "list = [1, 2, 3, 4,]\n",
    "list.append(5)      #here i add a new data into the list.\n",
    "print(list)\n",
    "\n",
    "#immutable >> it refers you cannot change the data after its creation for ex: tuple, strings\n",
    "\n",
    "name = (\"ajay\")\n",
    "name(0) = \"b\"   #if assign a new word in string then it will throw an error"
   ]
  },
  {
   "cell_type": "code",
   "execution_count": 29,
   "id": "41ea6d09",
   "metadata": {},
   "outputs": [
    {
     "name": "stdout",
     "output_type": "stream",
     "text": [
      "sum: 17.0, minus: -1.0, multification: 72.0, devidation: 0.8888888888888888\n"
     ]
    }
   ],
   "source": [
    "#7. Write a program that performs basic arithmetic operations on two user-input numbers.\n",
    "\n",
    "a = float(input(\"enter first number: \"))\n",
    "b = float(input(\"enter second number: \"))\n",
    "\n",
    "print(f\"sum: {a+b}, minus: {a-b}, multification: {a*b}, devidation: {a/b}\")"
   ]
  },
  {
   "cell_type": "code",
   "execution_count": 31,
   "id": "ac09efd2",
   "metadata": {},
   "outputs": [
    {
     "name": "stdout",
     "output_type": "stream",
     "text": [
      "True\n",
      "False\n",
      "True\n"
     ]
    }
   ],
   "source": [
    "#8. Write a program to demonstrate the use of logical operators.\n",
    "\n",
    "x = True\n",
    "y = False\n",
    "\n",
    "print(x or y)\n",
    "print(x and y)\n",
    "print(not y)"
   ]
  },
  {
   "cell_type": "code",
   "execution_count": 46,
   "id": "d1e7ab1e",
   "metadata": {},
   "outputs": [
    {
     "name": "stdout",
     "output_type": "stream",
     "text": [
      "54\n",
      "54.0\n",
      "True\n"
     ]
    }
   ],
   "source": [
    "#9. Write a Python program to convert user input from string to integer, float, and boolean types.\n",
    "\n",
    "user_input = (str(input(\"Enter a value: \")))\n",
    "print(int(user_input))    # To integer (if possible)\n",
    "print(float(user_input))  # To float (if possible)\n",
    "print(bool(user_input))   # To boolean (False if empty)\n"
   ]
  },
  {
   "cell_type": "code",
   "execution_count": 42,
   "id": "6054dc6e",
   "metadata": {},
   "outputs": [
    {
     "name": "stdout",
     "output_type": "stream",
     "text": [
      "Original list (strings): ['1', '2', '3', '4', '5']\n",
      "After type casting to integers: [1, 2, 3, 4, 5]\n",
      "After adding 10: [11, 12, 13, 14, 15]\n",
      "Final list (strings again): ['11', '12', '13', '14', '15']\n"
     ]
    }
   ],
   "source": [
    "#10. Write code to demonstrate type casting with list elements.\n",
    "\n",
    "# Original list with string elements\n",
    "str_list = ['1', '2', '3', '4', '5']\n",
    "print(\"Original list (strings):\", str_list)\n",
    "\n",
    "# Convert string elements to integers\n",
    "int_list = [int(x) for x in str_list]\n",
    "print(\"After type casting to integers:\", int_list)\n",
    "\n",
    "# Perform some operation (e.g., add 10 to each number)\n",
    "modified_list = [x + 10 for x in int_list]\n",
    "print(\"After adding 10:\", modified_list)\n",
    "\n",
    "# Convert integers back to strings\n",
    "final_str_list = [str(x) for x in modified_list]\n",
    "print(\"Final list (strings again):\", final_str_list)"
   ]
  },
  {
   "cell_type": "code",
   "execution_count": 49,
   "id": "21e99173",
   "metadata": {},
   "outputs": [
    {
     "name": "stdout",
     "output_type": "stream",
     "text": [
      "this number is negetive\n"
     ]
    }
   ],
   "source": [
    "#11. Write a program that checks if a number is positive, negative, or zero.\n",
    "\n",
    "user_entry = (float(input(\"enter a number: \")))\n",
    "\n",
    "if (user_entry > 0):\n",
    "    print(\"this numner is positive\")\n",
    "elif (user_entry < 0):\n",
    "    print(\"this number is negetive\")\n",
    "else:\n",
    "    print(\"the number is zero\")"
   ]
  },
  {
   "cell_type": "code",
   "execution_count": 55,
   "id": "8879d15f",
   "metadata": {},
   "outputs": [
    {
     "name": "stdout",
     "output_type": "stream",
     "text": [
      "1 2 3 4 5 6 7 8 9 10 "
     ]
    }
   ],
   "source": [
    "#12. Write a for loop to print numbers from 1 to 10.\n",
    "\n",
    "for i in range(1, 11):\n",
    "    print(i, end=\" \")"
   ]
  },
  {
   "cell_type": "code",
   "execution_count": null,
   "id": "34cf9e68",
   "metadata": {},
   "outputs": [
    {
     "name": "stdout",
     "output_type": "stream",
     "text": [
      "2\n",
      "6\n",
      "12\n",
      "20\n",
      "30\n",
      "42\n",
      "56\n",
      "72\n",
      "90\n",
      "110\n",
      "132\n",
      "156\n",
      "182\n",
      "210\n",
      "240\n",
      "272\n",
      "306\n",
      "342\n",
      "380\n",
      "420\n",
      "462\n",
      "506\n",
      "552\n",
      "600\n",
      "650\n"
     ]
    }
   ],
   "source": [
    "#13. Write a Python program to find the sum of all even numbers between 1 and 50.\n",
    "total = 0\n",
    "for num in range(2, 51, 2):     #start, stop, step\n",
    "    total += num\n",
    "    \n",
    "    print(total)"
   ]
  },
  {
   "cell_type": "code",
   "execution_count": 62,
   "id": "417a0aca",
   "metadata": {},
   "outputs": [
    {
     "name": "stdout",
     "output_type": "stream",
     "text": [
      "o\n",
      "ol\n",
      "oll\n",
      "olle\n",
      "olleh\n"
     ]
    }
   ],
   "source": [
    "#14. Write a program to reverse a string using a while loop.\n",
    "s = \"hello\"\n",
    "reverse_word = \"\"\n",
    "\n",
    "i = len(s) - 1\n",
    "while i >= 0:\n",
    "    reverse_word += s[i]\n",
    "    i -= 1\n",
    "    print(reverse_word)\n"
   ]
  },
  {
   "cell_type": "code",
   "execution_count": 65,
   "id": "0020060b",
   "metadata": {},
   "outputs": [
    {
     "name": "stdout",
     "output_type": "stream",
     "text": [
      "40320\n"
     ]
    }
   ],
   "source": [
    "#15. Write a Python program to calculate the factorial of a number provided by the user using a while loop.\n",
    "n = int(input(\"Enter a number: \"))\n",
    "factorial = 1\n",
    "while n > 0:\n",
    "    factorial *= n\n",
    "    n -= 1\n",
    "print(factorial)"
   ]
  },
  {
   "cell_type": "code",
   "execution_count": null,
   "id": "75e151da",
   "metadata": {},
   "outputs": [],
   "source": []
  }
 ],
 "metadata": {
  "kernelspec": {
   "display_name": "Python 3 (ipykernel)",
   "language": "python",
   "name": "python3"
  },
  "language_info": {
   "codemirror_mode": {
    "name": "ipython",
    "version": 3
   },
   "file_extension": ".py",
   "mimetype": "text/x-python",
   "name": "python",
   "nbconvert_exporter": "python",
   "pygments_lexer": "ipython3",
   "version": "3.13.2"
  }
 },
 "nbformat": 4,
 "nbformat_minor": 5
}
